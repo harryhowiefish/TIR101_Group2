{
 "cells": [
  {
   "cell_type": "code",
   "execution_count": 1,
   "metadata": {},
   "outputs": [
    {
     "name": "stdout",
     "output_type": "stream",
     "text": [
      "/Users/Harry/Documents/GitHub/TIR101_Group2/gcp_sample_code\n"
     ]
    }
   ],
   "source": [
    "import os\n",
    "from google.cloud import bigquery\n",
    "print(os.getcwd())\n",
    "os.environ['GOOGLE_APPLICATION_CREDENTIALS'] = './airflow/dags/GCS_BigQuery_write_cred.json'\n",
    "os.chdir('../')\n",
    "from airflow.utils.gcp import bq\n",
    "client = bigquery.Client()"
   ]
  },
  {
   "cell_type": "code",
   "execution_count": 2,
   "metadata": {},
   "outputs": [
    {
     "name": "stdout",
     "output_type": "stream",
     "text": [
      "Created dataset tir101-group2-422603.Harry_ETL_SRC\n",
      "Created dataset tir101-group2-422603.Harry_ETL_ODS\n",
      "Created dataset tir101-group2-422603.Harry_ETL_DIM\n",
      "Created dataset tir101-group2-422603.Harry_ETL_FACT\n",
      "Created dataset tir101-group2-422603.Harry_ETL_MART\n"
     ]
    }
   ],
   "source": [
    "user_name = 'Harry'\n",
    "for table_name in ['ETL_SRC','ETL_ODS','ETL_DIM','ETL_FACT','ETL_MART']:\n",
    "    dataset = bigquery.Dataset(f'tir101-group2-422603.{user_name}_{table_name}')\n",
    "\n",
    "    # TODO(developer): Specify the geographic location where the dataset should reside.\n",
    "    dataset.location = \"asia-east1\"\n",
    "\n",
    "    # Send the dataset to the API for creation, with an explicit timeout.\n",
    "    # Raises google.api_core.exceptions.Conflict if the Dataset already\n",
    "    # exists within the project.\n",
    "    dataset = client.create_dataset(dataset, timeout=30)  # Make an API request.\n",
    "    print(\"Created dataset {}.{}\".format(client.project, dataset.dataset_id))"
   ]
  }
 ],
 "metadata": {
  "kernelspec": {
   "display_name": ".venv",
   "language": "python",
   "name": "python3"
  },
  "language_info": {
   "codemirror_mode": {
    "name": "ipython",
    "version": 3
   },
   "file_extension": ".py",
   "mimetype": "text/x-python",
   "name": "python",
   "nbconvert_exporter": "python",
   "pygments_lexer": "ipython3",
   "version": "3.12.2"
  }
 },
 "nbformat": 4,
 "nbformat_minor": 2
}
