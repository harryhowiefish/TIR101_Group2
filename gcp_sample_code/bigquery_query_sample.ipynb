{
 "cells": [
  {
   "cell_type": "code",
   "execution_count": 1,
   "metadata": {},
   "outputs": [],
   "source": [
    "\n",
    "from google.cloud import bigquery\n",
    "import os\n",
    "import pandas as pd\n",
    "\n",
    "os.environ['GOOGLE_APPLICATION_CREDENTIALS'] = './airflow/gcp_credentials/GCS_BigQuery_write_cred.json'\n",
    "os.chdir('../')\n",
    "from airflow.utils.gcp import bq\n"
   ]
  },
  {
   "cell_type": "code",
   "execution_count": 5,
   "metadata": {},
   "outputs": [
    {
     "name": "stdout",
     "output_type": "stream",
     "text": [
      "\n",
      "    SELECT * FROM `tir101-group2-422603.ETL_SRC.SRC_youbike_before0504`\n",
      "    WHERE dt='05_08_2024'\n",
      "    \n"
     ]
    }
   ],
   "source": [
    "import pandas as pd\n",
    "str_date='05_08_2024'\n",
    "client = bigquery.Client()\n",
    "query = '''\n",
    "    SELECT * FROM `tir101-group2-422603.ETL_SRC.SRC_youbike_before0504`\n",
    "    WHERE dt='{}'\n",
    "    '''.format(str_date)\n",
    "print(query)\n",
    "df = bq.query_bq_to_df(client, query)\n",
    "df.to_csv(f'{str_date}.csv', index=False)"
   ]
  }
 ],
 "metadata": {
  "kernelspec": {
   "display_name": ".venv",
   "language": "python",
   "name": "python3"
  },
  "language_info": {
   "codemirror_mode": {
    "name": "ipython",
    "version": 3
   },
   "file_extension": ".py",
   "mimetype": "text/x-python",
   "name": "python",
   "nbconvert_exporter": "python",
   "pygments_lexer": "ipython3",
   "version": "3.12.2"
  }
 },
 "nbformat": 4,
 "nbformat_minor": 2
}
