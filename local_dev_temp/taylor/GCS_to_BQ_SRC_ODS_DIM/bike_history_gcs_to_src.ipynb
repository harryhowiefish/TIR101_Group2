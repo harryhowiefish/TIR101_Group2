{
 "cells": [
  {
   "cell_type": "code",
   "execution_count": 21,
   "metadata": {},
   "outputs": [],
   "source": [
    "import os"
   ]
  },
  {
   "cell_type": "code",
   "execution_count": 22,
   "metadata": {},
   "outputs": [],
   "source": [
    "BIGQUERY_CREDENTIALS_FILE_PATH = r\"/Users/taylorlin/Desktop/GCP_Key/harry_GCS_BigQuery_write_cred.json\"\n",
    "# BIGQUERY_CREDENTIALS_FILE_PATH = r\"D:\\data_engineer\\TIR_group2\\TIR101_Group2\\secrets\\harry_GCS_BigQuery_write_cred.json\"\n",
    "os.environ[\"GOOGLE_APPLICATION_CREDENTIALS\"] = BIGQUERY_CREDENTIALS_FILE_PATH"
   ]
  },
  {
   "cell_type": "code",
   "execution_count": 23,
   "metadata": {},
   "outputs": [
    {
     "data": {
      "text/plain": [
       "'tir101-group2-422603'"
      ]
     },
     "execution_count": 23,
     "metadata": {},
     "output_type": "execute_result"
    }
   ],
   "source": [
    "from google.cloud import bigquery\n",
    "BQ_CLIENT = bigquery.Client()  \n",
    "# showing project name(level higher than dataset)\n",
    "BQ_CLIENT.project"
   ]
  },
  {
   "cell_type": "code",
   "execution_count": null,
   "metadata": {},
   "outputs": [],
   "source": [
    "# Dataset Creation\n",
    "def create_dataset(dataset_name:str , location:str=\"asia-east1\",client: bigquery.Client = BQ_CLIENT):\n",
    "    \"\"\"Create a dataset\"\"\"\n",
    "    porject_name = client.project\n",
    "    dataset_id = f\"{porject_name}.{dataset_name}\"\n",
    "\n",
    "    dataset = bigquery.Dataset(dataset_id)\n",
    "    dataset.location = location\n",
    "\n",
    "    client.create_dataset(dataset)\n",
    "    print(f\"created {dataset_name} in project {porject_name} ,location:{location}\")\n",
    "\n",
    "create_dataset(dataset_name=\"ubike_history_GCS_to_BQ_SRC_ODS_DIM\")"
   ]
  },
  {
   "cell_type": "markdown",
   "metadata": {},
   "source": [
    "# SRC Creation\n",
    "\n",
    "rent_time,rent_station,return_time,return_station,rent,infodate\n"
   ]
  },
  {
   "cell_type": "markdown",
   "metadata": {},
   "source": [
    "法一、有 partition"
   ]
  },
  {
   "cell_type": "code",
   "execution_count": 58,
   "metadata": {},
   "outputs": [
    {
     "name": "stdout",
     "output_type": "stream",
     "text": [
      "SRC_ubike_v2_history is created.\n"
     ]
    }
   ],
   "source": [
    "def GCS_ubike_history_to_BQ_SRC(client: bigquery.Client = BQ_CLIENT) -> None:\n",
    "    \"\"\"create external table (GCS to BQ) for ubike_histroy data\"\"\"\n",
    "    query_job = client.query(\n",
    "    \"\"\"\n",
    "        CREATE OR REPLACE EXTERNAL TABLE `ubike_history_GCS_to_BQ_SRC_ODS_DIM.SRC_ubike_v2_history`\n",
    "        (\n",
    "            rent_time STRING,\n",
    "            rent_station STRING,\n",
    "            return_time STRING,\n",
    "            return_station STRING,\n",
    "            rent STRING,\n",
    "            infodate STRING\n",
    "        )\n",
    "        WITH PARTITION COLUMNS\n",
    "        OPTIONS (\n",
    "            format = 'CSV',\n",
    "            uris = [\n",
    "                'gs://static_reference/bike_history/*.csv'\n",
    "            ],\n",
    "            hive_partition_uri_prefix = 'gs://static_reference/bike_history/',\n",
    "            skip_leading_rows = 1,\n",
    "            max_bad_records = 100,\n",
    "            ignore_unknown_values = true\n",
    "        )    \n",
    "    \"\"\"\n",
    "    )\n",
    "    query_job.result()\n",
    "    print(\"SRC_ubike_v2_history is created.\")\n",
    "GCS_ubike_history_to_BQ_SRC()"
   ]
  },
  {
   "cell_type": "markdown",
   "metadata": {},
   "source": [
    "感覺有很多無法解讀的數值\n",
    "\n",
    "改掉\n",
    "            skip_leading_rows = 1,\n",
    "            max_bad_records = 100,\n",
    "            ignore_unknown_values = true\n",
    "\n",
    "改成\n",
    "            skip_leading_rows = 1,\n",
    "            max_bad_records = 1\n",
    "\n",
    "# 並且改數據的型態就不行\n"
   ]
  },
  {
   "cell_type": "code",
   "execution_count": 59,
   "metadata": {},
   "outputs": [
    {
     "name": "stdout",
     "output_type": "stream",
     "text": [
      "SRC_ubike_v3_history is created.\n"
     ]
    }
   ],
   "source": [
    "def GCS_ubike_history_to_BQ_SRC(client: bigquery.Client = BQ_CLIENT) -> None:\n",
    "    \"\"\"create external table (GCS to BQ) for ubike_histroy data\"\"\"\n",
    "    query_job = client.query(\n",
    "    \"\"\"\n",
    "        CREATE OR REPLACE EXTERNAL TABLE `ubike_history_GCS_to_BQ_SRC_ODS_DIM.SRC_ubike_v3_history`\n",
    "        (\n",
    "            rent_time TIMESTAMP,\n",
    "            rent_station STRING,\n",
    "            return_time TIMESTAMP,\n",
    "            return_station STRING,\n",
    "            rent TIME,\n",
    "            infodate DATE\n",
    "        )\n",
    "        WITH PARTITION COLUMNS\n",
    "        OPTIONS (\n",
    "            format = 'CSV',\n",
    "        uris = [\n",
    "                'gs://static_reference/bike_history/*.csv'\n",
    "            ],\n",
    "            hive_partition_uri_prefix = 'gs://static_reference/bike_history/',\n",
    "            skip_leading_rows = 1,\n",
    "            max_bad_records = 1\n",
    "        )\n",
    "    \"\"\"\n",
    "    )\n",
    "    query_job.result()\n",
    "    print(\"SRC_ubike_v3_history is created.\")\n",
    "GCS_ubike_history_to_BQ_SRC()"
   ]
  },
  {
   "cell_type": "markdown",
   "metadata": {},
   "source": [
    "CREATE TABLE `project_id.dataset_id.bike_usage_history` (\n",
    "  id INT64,\n",
    "  lend_date TIME,\n",
    "  lend_hour INT64,\n",
    "  lend_station_id INT64,\n",
    "  return_date DATE,\n",
    "  return_hour INT64,\n",
    "  return_station_id INT64,\n",
    "  usage_time TIME,\n",
    "  source_date DATE,\n",
    "  create_time TIMESTAMP,\n",
    "  PRIMARY KEY (id)\n",
    ");"
   ]
  },
  {
   "cell_type": "markdown",
   "metadata": {},
   "source": []
  },
  {
   "cell_type": "code",
   "execution_count": 43,
   "metadata": {},
   "outputs": [
    {
     "name": "stdout",
     "output_type": "stream",
     "text": [
      "SRC_bike_history is created.\n"
     ]
    }
   ],
   "source": [
    "from google.cloud import bigquery\n",
    "\n",
    "# 确保定义了 BQ_CLIENT 作为 bigquery.Client 的实例\n",
    "BQ_CLIENT = bigquery.Client()\n",
    "\n",
    "def GCS_bike_history_to_BQ_SRC(client: bigquery.Client = BQ_CLIENT) -> None:\n",
    "    \"\"\"Create external table (GCS to BQ) for ubike_history data\"\"\"\n",
    "    schema = [\n",
    "        bigquery.SchemaField(\"no\", \"INT64\", mode=\"NULLABLE\"),\n",
    "        bigquery.SchemaField(\"rent_time\", \"TIMESTAMP\", mode=\"NULLABLE\"),\n",
    "        bigquery.SchemaField(\"rent_station\", \"STRING\", mode=\"NULLABLE\"),\n",
    "        bigquery.SchemaField(\"return_time\", \"TIMESTAMP\", mode=\"NULLABLE\"),\n",
    "        bigquery.SchemaField(\"return_station\", \"STRING\", mode=\"NULLABLE\"),\n",
    "        bigquery.SchemaField(\"rent\", \"TIME\", mode=\"NULLABLE\"),\n",
    "        bigquery.SchemaField(\"infodate\", \"DATE\", mode=\"NULLABLE\")\n",
    "    ]\n",
    "\n",
    "    external_config = bigquery.ExternalConfig('CSV')\n",
    "    external_config.source_uris = ['gs://static_reference/bike_history/*.csv']\n",
    "    external_config.options.skip_leading_rows = 1\n",
    "    external_config.options.max_bad_records = 10\n",
    "    external_config.options.ignore_unknown_values = True\n",
    "\n",
    "    hive_partitioning = bigquery.external_config.HivePartitioningOptions()\n",
    "    hive_partitioning.source_uri_prefix = 'gs://static_reference/bike_history/'\n",
    "    external_config.hive_partitioning_options = hive_partitioning\n",
    "\n",
    "    table_id = 'tir101-group2-422603.ubike_history_GCS_to_BQ_SRC_ODS_DIM.SRC_bike_history'\n",
    "    table = bigquery.Table(table_id, schema=schema)\n",
    "    table.external_data_configuration = external_config\n",
    "\n",
    "    client.create_table(table, exists_ok=True)\n",
    "    print(\"SRC_bike_history is created.\")\n",
    "\n",
    "# 调用函数创建外部表\n",
    "GCS_bike_history_to_BQ_SRC(client=BQ_CLIENT)\n"
   ]
  },
  {
   "cell_type": "code",
   "execution_count": 47,
   "metadata": {},
   "outputs": [
    {
     "name": "stdout",
     "output_type": "stream",
     "text": [
      "SRC_bike_history is created.\n"
     ]
    }
   ],
   "source": [
    "from google.cloud import bigquery\n",
    "\n",
    "# 确保定义了 BQ_CLIENT 作为 bigquery.Client 的实例\n",
    "BQ_CLIENT = bigquery.Client()\n",
    "\n",
    "def GCS_ubike_history_to_BQ_SRC(client: bigquery.Client = BQ_CLIENT) -> None:\n",
    "    \"\"\"Create external table (GCS to BQ) for ubike_history data\"\"\"\n",
    "    schema = [\n",
    "        bigquery.SchemaField(\"id\", \"INT64\", mode=\"NULLABLE\"),\n",
    "        bigquery.SchemaField(\"rent_time\", \"TIMESTAMP\", mode=\"NULLABLE\"),\n",
    "        bigquery.SchemaField(\"rent_station\", \"STRING\", mode=\"NULLABLE\"),\n",
    "        bigquery.SchemaField(\"return_time\", \"TIMESTAMP\", mode=\"NULLABLE\"),\n",
    "        bigquery.SchemaField(\"return_station\", \"STRING\", mode=\"NULLABLE\"),\n",
    "        bigquery.SchemaField(\"rent\", \"TIME\", mode=\"NULLABLE\"),\n",
    "        bigquery.SchemaField(\"infodate\", \"DATE\", mode=\"NULLABLE\")\n",
    "    ]\n",
    "\n",
    "    external_config = bigquery.ExternalConfig('CSV')\n",
    "    external_config.source_uris = ['gs://static_reference/bike_history/*.csv']\n",
    "    external_config.options.skip_leading_rows = 1\n",
    "    external_config.options.max_bad_records = 10\n",
    "    external_config.options.ignore_unknown_values = True\n",
    "\n",
    "    hive_partitioning = bigquery.external_config.HivePartitioningOptions()\n",
    "    hive_partitioning.source_uri_prefix = 'gs://static_reference/bike_history/'\n",
    "    hive_partitioning.require_partition_filter = True\n",
    "    hive_partitioning.mode = 'AUTO'\n",
    "    external_config.hive_partitioning_options = hive_partitioning\n",
    "\n",
    "    table_id = 'tir101-group2-422603.ubike_history_GCS_to_BQ_SRC_ODS_DIM.SRC_bike_history'\n",
    "    table = bigquery.Table(table_id, schema=schema)\n",
    "    table.external_data_configuration = external_config\n",
    "\n",
    "    client.create_table(table, exists_ok=True)\n",
    "    print(\"SRC_bike_history is created.\")\n",
    "\n",
    "# 调用函数创建外部表\n",
    "GCS_ubike_history_to_BQ_SRC(client=BQ_CLIENT)\n"
   ]
  },
  {
   "cell_type": "markdown",
   "metadata": {},
   "source": [
    "這個成功了"
   ]
  },
  {
   "cell_type": "code",
   "execution_count": 50,
   "metadata": {},
   "outputs": [
    {
     "name": "stdout",
     "output_type": "stream",
     "text": [
      "Table tir101-group2-422603.ubike_history_GCS_to_BQ_SRC_ODS_DIM.SRC_bike_history does not exist.\n",
      "SRC_bike_history is created.\n"
     ]
    }
   ],
   "source": [
    "from google.cloud import bigquery\n",
    "from google.cloud.exceptions import NotFound\n",
    "\n",
    "# 确保定义了 BQ_CLIENT 作为 bigquery.Client 的实例\n",
    "BQ_CLIENT = bigquery.Client()\n",
    "\n",
    "def GCS_ubike_history_to_BQ_SRC(client: bigquery.Client = BQ_CLIENT) -> None:\n",
    "    \"\"\"Create or replace external table (GCS to BQ) for ubike_history data\"\"\"\n",
    "    table_id = 'tir101-group2-422603.ubike_history_GCS_to_BQ_SRC_ODS_DIM.SRC_bike_history'\n",
    "\n",
    "    # 尝试删除已存在的表\n",
    "    try:\n",
    "        client.delete_table(table_id)  # 如果表已存在则删除\n",
    "        print(f\"Table {table_id} deleted.\")\n",
    "    except NotFound:\n",
    "        print(f\"Table {table_id} does not exist.\")\n",
    "\n",
    "    schema = [\n",
    "        bigquery.SchemaField(\"id\", \"INT64\", mode=\"NULLABLE\"),\n",
    "        bigquery.SchemaField(\"rent_time\", \"TIMESTAMP\", mode=\"NULLABLE\"),\n",
    "        bigquery.SchemaField(\"rent_station\", \"STRING\", mode=\"NULLABLE\"),\n",
    "        bigquery.SchemaField(\"return_time\", \"TIMESTAMP\", mode=\"NULLABLE\"),\n",
    "        bigquery.SchemaField(\"return_station\", \"STRING\", mode=\"NULLABLE\"),\n",
    "        bigquery.SchemaField(\"rent\", \"TIME\", mode=\"NULLABLE\"),\n",
    "        bigquery.SchemaField(\"infodate\", \"DATE\", mode=\"NULLABLE\")\n",
    "    ]\n",
    "\n",
    "    external_config = bigquery.ExternalConfig('CSV')\n",
    "    external_config.source_uris = ['gs://static_reference/bike_history/*.csv']\n",
    "    external_config.options.skip_leading_rows = 1\n",
    "    external_config.options.max_bad_records = 10\n",
    "    external_config.options.ignore_unknown_values = True\n",
    "\n",
    "    hive_partitioning = bigquery.external_config.HivePartitioningOptions()\n",
    "    external_config.hive_partitioning_options = hive_partitioning\n",
    "\n",
    "    table = bigquery.Table(table_id, schema=schema)\n",
    "    table.external_data_configuration = external_config\n",
    "\n",
    "    client.create_table(table)\n",
    "    print(\"SRC_bike_history is created.\")\n",
    "\n",
    "# 调用函数创建外部表\n",
    "GCS_ubike_history_to_BQ_SRC(client=BQ_CLIENT)\n"
   ]
  }
 ],
 "metadata": {
  "kernelspec": {
   "display_name": ".venv",
   "language": "python",
   "name": "python3"
  },
  "language_info": {
   "codemirror_mode": {
    "name": "ipython",
    "version": 3
   },
   "file_extension": ".py",
   "mimetype": "text/x-python",
   "name": "python",
   "nbconvert_exporter": "python",
   "pygments_lexer": "ipython3",
   "version": "3.12.3"
  }
 },
 "nbformat": 4,
 "nbformat_minor": 2
}
