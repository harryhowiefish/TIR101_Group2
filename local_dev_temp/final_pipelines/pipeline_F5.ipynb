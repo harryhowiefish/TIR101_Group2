{
 "cells": [
  {
   "cell_type": "code",
   "execution_count": 15,
   "metadata": {},
   "outputs": [],
   "source": [
    "import pandas as pd\n",
    "import os\n",
    "import geopy.distance\n",
    "import numpy as np\n",
    "from tqdm import tqdm\n",
    "from pathlib import Path"
   ]
  },
  {
   "cell_type": "code",
   "execution_count": 16,
   "metadata": {},
   "outputs": [],
   "source": [
    "RADIUS = 300"
   ]
  },
  {
   "cell_type": "code",
   "execution_count": 18,
   "metadata": {},
   "outputs": [],
   "source": [
    "mrt_station = pd.read_csv('mrt_station.csv')\n",
    "\n",
    "# MRT_station_name: str\n",
    "# city_code: str\n",
    "# district: str\n",
    "# station_lat: decimal\n",
    "# station_lng: decimal\n",
    "\n",
    "mrt_station = mrt_station[['StationName.Zh_tw','LocationCityCode', 'LocationTown','StationPosition.PositionLon',\n",
    "       'StationPosition.PositionLat']]\n",
    "mrt_station = mrt_station.rename(\n",
    "    {\n",
    "        'StationName.Zh_tw':'MRT_station_name',\n",
    "        'LocationCityCode':'city_code',\n",
    "        'LocationTown':'district',\n",
    "        'StationPosition.PositionLat':'station_lat',\n",
    "        'StationPosition.PositionLon':'station_lng'\n",
    "    },axis=1)\n",
    "\n",
    "mrt_station = mrt_station[['MRT_station_name','city_code','district','station_lat','station_lng']]"
   ]
  },
  {
   "cell_type": "code",
   "execution_count": 19,
   "metadata": {},
   "outputs": [],
   "source": [
    "mrt_station = mrt_station.drop_duplicates(subset='MRT_station_name')"
   ]
  },
  {
   "cell_type": "code",
   "execution_count": 20,
   "metadata": {},
   "outputs": [],
   "source": [
    "target_stations = mrt_station['MRT_station_name'].to_list()"
   ]
  },
  {
   "cell_type": "code",
   "execution_count": 21,
   "metadata": {},
   "outputs": [],
   "source": [
    "bike_station = pd.read_csv('TPE_bike_station.csv')\n",
    "bike_station['district_tw'] = bike_station['district_tw'].replace('臺大公館校區','大安區')\n",
    "bike_station.rename(\n",
    "    {\n",
    "        'name_tw':'station_name',\n",
    "        'district_tw':'district',\n",
    "        'lat':'station_lat',\n",
    "        'lng':'station_lng',\n",
    "        'parking_spaces':'total'\n",
    "\n",
    "    }\n",
    "    ,axis=1,\n",
    "    inplace=True\n",
    "                    )\n",
    "\n",
    "bike_station = bike_station[['station_name','district',\n",
    "                             'city_code','total','station_lat','station_lng']]"
   ]
  },
  {
   "cell_type": "code",
   "execution_count": 22,
   "metadata": {},
   "outputs": [
    {
     "name": "stderr",
     "output_type": "stream",
     "text": [
      "100%|██████████| 108/108 [00:07<00:00, 14.79it/s]\n"
     ]
    }
   ],
   "source": [
    "bike_coords = bike_station[['station_lat', 'station_lng']].to_numpy()\n",
    "mrt_coords = mrt_station[['station_lat', 'station_lng']].to_numpy()\n",
    "\n",
    "# Initialize a matrix to store distances\n",
    "dist_matrix = np.zeros((len(mrt_coords), len(bike_coords)))\n",
    "\n",
    "# Compute geodesic distance between each pair of points\n",
    "for i in tqdm(range(len(mrt_coords))):\n",
    "    for j in range(len(bike_coords)):\n",
    "        dist = geopy.distance.geodesic(mrt_coords[i], bike_coords[j]).m\n",
    "        dist_matrix[i, j] = dist"
   ]
  },
  {
   "cell_type": "code",
   "execution_count": 23,
   "metadata": {},
   "outputs": [],
   "source": [
    "ubike_rt = pd.read_csv('ubike_0501.csv',index_col=0)\n",
    "ubike_rt.drop_duplicates(inplace=True)\n",
    "ubike_rt['sarea'] = ubike_rt['sarea'].replace('臺大公館校區','大安區')\n",
    "ubike_rt['sna'] = ubike_rt['sna'].apply(lambda x: x.split('_')[1])\n"
   ]
  },
  {
   "cell_type": "code",
   "execution_count": 24,
   "metadata": {},
   "outputs": [],
   "source": [
    "ubike_rt['thres'] = np.min(np.column_stack(((ubike_rt['tot']*0.1).to_numpy(),np.full(len(ubike_rt),5))),axis=1)\n",
    "def almost_empty(row):\n",
    "    bike = row['sbi']\n",
    "    thres = row['thres']\n",
    "    if bike <thres:\n",
    "        return True\n",
    "    else:\n",
    "        return False"
   ]
  },
  {
   "cell_type": "code",
   "execution_count": 25,
   "metadata": {},
   "outputs": [],
   "source": [
    "ubike_rt['almost_empty'] = ubike_rt.apply(almost_empty,axis=1)\n",
    "ubike_rt['date'] = pd.to_datetime(ubike_rt['updateTime']).dt.date\n",
    "ubike_rt['hour'] = pd.to_datetime(ubike_rt['updateTime']).dt.hour\n",
    "ubike_rt['min'] = (pd.to_datetime(ubike_rt['updateTime']).dt.minute)//10*10"
   ]
  },
  {
   "cell_type": "code",
   "execution_count": 26,
   "metadata": {},
   "outputs": [],
   "source": [
    "ubike_rt = ubike_rt.drop(['ar', 'aren', 'infoDate', 'infoTime', 'mday','updateTime',\n",
    "       'srcUpdateTime','sarea', 'sareaen', 'snaen', 'sno'],axis=1)"
   ]
  },
  {
   "cell_type": "code",
   "execution_count": 40,
   "metadata": {},
   "outputs": [],
   "source": [
    "result = None\n",
    "for idx, station in enumerate(target_stations):\n",
    "    youbike_dist_to_station = dist_matrix[idx]\n",
    "    youbike_index = np.where(youbike_dist_to_station<RADIUS)[0]\n",
    "    bike_station_in_area = bike_station.iloc[youbike_index]\n",
    "    subset = ubike_rt[ubike_rt['sna'].isin(bike_station_in_area['station_name'])]\n",
    "    subset = subset.drop_duplicates(subset=['sna','date','hour','min'])\n",
    "    subset = subset.reset_index(drop=True)\n",
    "    subset = subset.groupby(['date','hour'],as_index=False).agg({'almost_empty':'mean','sna':'first'})\n",
    "    single_mrt = mrt_station.iloc[idx].to_frame().T\n",
    "    single_mrt['key'] = 0\n",
    "    subset['key'] = 0\n",
    "    single_mrt = single_mrt.merge(subset,on='key',how='inner')\n",
    "    if result is None:\n",
    "        result = single_mrt.copy(deep=True)\n",
    "    else:\n",
    "        result = pd.concat([result,single_mrt],ignore_index=True)\n",
    "    "
   ]
  },
  {
   "cell_type": "code",
   "execution_count": 41,
   "metadata": {},
   "outputs": [
    {
     "data": {
      "text/plain": [
       "Index(['MRT_station_name', 'city_code', 'district', 'station_lat',\n",
       "       'station_lng', 'key', 'date', 'hour', 'almost_empty', 'sna'],\n",
       "      dtype='object')"
      ]
     },
     "execution_count": 41,
     "metadata": {},
     "output_type": "execute_result"
    }
   ],
   "source": [
    "result.columns"
   ]
  },
  {
   "cell_type": "code",
   "execution_count": 43,
   "metadata": {},
   "outputs": [],
   "source": [
    "result = result[['sna','MRT_station_name','date','hour','almost_empty']]"
   ]
  },
  {
   "cell_type": "code",
   "execution_count": 44,
   "metadata": {},
   "outputs": [],
   "source": [
    "result.to_csv(f'pipeline_F5_R{RADIUS}_result.csv',index=False)"
   ]
  },
  {
   "cell_type": "code",
   "execution_count": 45,
   "metadata": {},
   "outputs": [
    {
     "data": {
      "text/plain": [
       "(22776, 5)"
      ]
     },
     "execution_count": 45,
     "metadata": {},
     "output_type": "execute_result"
    }
   ],
   "source": [
    "result.shape"
   ]
  }
 ],
 "metadata": {
  "kernelspec": {
   "display_name": ".venv",
   "language": "python",
   "name": "python3"
  },
  "language_info": {
   "codemirror_mode": {
    "name": "ipython",
    "version": 3
   },
   "file_extension": ".py",
   "mimetype": "text/x-python",
   "name": "python",
   "nbconvert_exporter": "python",
   "pygments_lexer": "ipython3",
   "version": "3.12.2"
  }
 },
 "nbformat": 4,
 "nbformat_minor": 2
}
