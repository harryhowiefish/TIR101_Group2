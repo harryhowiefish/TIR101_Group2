{
 "cells": [
  {
   "cell_type": "code",
   "execution_count": 22,
   "metadata": {},
   "outputs": [],
   "source": [
    "\n",
    "import pandas as pd\n",
    "import os\n",
    "import numpy as np\n",
    "from pathlib import Path\n",
    "\n",
    "file_list = os.listdir('./history')\n",
    "file_list = [file for file in file_list if 'bike_usage_history' in file]\n",
    "\n",
    "tpe_stations = pd.read_csv('TPE_bike_station.csv')\n",
    "# tpe_stations = tpe_stations[['station_no',\n",
    "                            #  'name_tw', 'district_tw']]\n"
   ]
  },
  {
   "cell_type": "code",
   "execution_count": 18,
   "metadata": {},
   "outputs": [
    {
     "name": "stdout",
     "output_type": "stream",
     "text": [
      "finish processing: 2022_5_bike_usage_history.csv\n",
      "finish processing: 2023_3_bike_usage_history.csv\n",
      "finish processing: 2023_9_bike_usage_history.csv\n",
      "finish processing: 2021_11_bike_usage_history.csv\n",
      "finish processing: 2022_2_bike_usage_history.csv\n",
      "finish processing: 2023_4_bike_usage_history.csv\n",
      "finish processing: 2022_8_bike_usage_history.csv\n",
      "finish processing: 2021_12_bike_usage_history.csv\n",
      "finish processing: 2023_7_bike_usage_history.csv\n",
      "finish processing: 2023_10_bike_usage_history.csv\n",
      "finish processing: 2022_1_bike_usage_history.csv\n",
      "finish processing: 2022_6_bike_usage_history.csv\n",
      "finish processing: 2023_1_bike_usage_history.csv\n",
      "finish processing: 2022_7_bike_usage_history.csv\n",
      "finish processing: 2023_11_bike_usage_history.csv\n",
      "finish processing: 2023_6_bike_usage_history.csv\n",
      "finish processing: 2022_9_bike_usage_history.csv\n",
      "finish processing: 2022_3_bike_usage_history.csv\n",
      "finish processing: 2023_5_bike_usage_history.csv\n",
      "finish processing: 2021_10_bike_usage_history.csv\n",
      "finish processing: 2023_8_bike_usage_history.csv\n",
      "finish processing: 2022_4_bike_usage_history.csv\n",
      "finish processing: 2023_2_bike_usage_history.csv\n",
      "finish processing: 2021_6_bike_usage_history.csv\n",
      "finish processing: 2020_10_bike_usage_history.csv\n",
      "finish processing: 2021_1_bike_usage_history.csv\n",
      "finish processing: 2020_7_bike_usage_history.csv\n",
      "finish processing: 2022_12_bike_usage_history.csv\n",
      "finish processing: 2020_4_bike_usage_history.csv\n",
      "finish processing: 2022_11_bike_usage_history.csv\n",
      "finish processing: 2021_2_bike_usage_history.csv\n",
      "finish processing: 2021_8_bike_usage_history.csv\n",
      "finish processing: 2021_5_bike_usage_history.csv\n",
      "finish processing: 2020_9_bike_usage_history.csv\n",
      "finish processing: 2020_8_bike_usage_history.csv\n",
      "finish processing: 2021_4_bike_usage_history.csv\n",
      "finish processing: 2021_9_bike_usage_history.csv\n",
      "finish processing: 2022_10_bike_usage_history.csv\n",
      "finish processing: 2020_5_bike_usage_history.csv\n",
      "finish processing: 2021_3_bike_usage_history.csv\n",
      "finish processing: 2020_12_bike_usage_history.csv\n",
      "finish processing: 2020_6_bike_usage_history.csv\n",
      "finish processing: 2020_11_bike_usage_history.csv\n",
      "finish processing: 2021_7_bike_usage_history.csv\n"
     ]
    }
   ],
   "source": [
    "\n",
    "by_time = None\n",
    "\n",
    "for path in file_list:\n",
    "    # if '2023' not in path:\n",
    "    #     continue\n",
    "    df = pd.read_csv(Path('./history', path), index_col=0)\n",
    "    df.columns = ['lend_time', 'lend_station_name', 'return_time',\n",
    "                  'return_station_name', 'usage_time', 'source_date']\n",
    "    df['source_date'] = pd.to_datetime(df['source_date'])\n",
    "    df['lend_date'] = pd.to_datetime(df['lend_time']).dt.date\n",
    "    df['lend_hour'] = pd.to_datetime(df['lend_time']).dt.hour\n",
    "    df['return_date'] = pd.to_datetime(df['return_time']).dt.date\n",
    "    df['return_hour'] = pd.to_datetime(df['return_time']).dt.hour\n",
    "    df = df.drop(['lend_time', 'return_time'], axis=1)\n",
    "    df['usage_time'] = pd.to_timedelta(\n",
    "        df['usage_time']).dt.total_seconds().astype('int')\n",
    "    df = df.merge(tpe_stations, how='inner',\n",
    "                  left_on='lend_station_name', right_on='name_tw')\n",
    "\n",
    "    df = df.merge(tpe_stations, how='inner',\n",
    "                  left_on='return_station_name', right_on='name_tw')\n",
    "\n",
    "    df = df[(df['lend_date'] == df['return_date']) & (df['lend_hour'] == df['return_hour'])]  # noqa\n",
    "\n",
    "    df['weekend'] = pd.to_datetime(\n",
    "        df['lend_date']).dt.dayofweek.isin([5, 6])\n",
    "    df['weekend'] = np.where(\n",
    "        df['weekend'], '假日', '平日')\n",
    "\n",
    "\n",
    "    one_month_by_time = df.groupby(\n",
    "        by=['lend_station_name','weekend', 'lend_hour'], as_index=False).size()\n",
    "\n",
    "    one_month_by_time = one_month_by_time.rename(\n",
    "        {\n",
    "         'lend_hour': 'hour',\n",
    "         'size': 'traffic_count',\n",
    "         'lend_station_name':'station_name'}, axis=1)\n",
    "    one_month_by_time = one_month_by_time[['station_name', 'hour',\n",
    "                                           'weekend',\n",
    "                                           'traffic_count'\n",
    "                                           ]]\n",
    "\n",
    "    if by_time is None:\n",
    "        by_time = one_month_by_time.copy(deep=True)\n",
    "    else:\n",
    "        by_time = pd.concat(\n",
    "            [by_time, one_month_by_time], ignore_index=True)\n",
    "\n",
    "    print(f\"finish processing: {path}\")\n",
    "    # break"
   ]
  },
  {
   "cell_type": "code",
   "execution_count": 19,
   "metadata": {},
   "outputs": [
    {
     "data": {
      "text/plain": [
       "(1375054, 4)"
      ]
     },
     "execution_count": 19,
     "metadata": {},
     "output_type": "execute_result"
    }
   ],
   "source": [
    "by_time.shape"
   ]
  },
  {
   "cell_type": "code",
   "execution_count": 29,
   "metadata": {},
   "outputs": [],
   "source": [
    "merged = by_time.merge(tpe_stations,how='inner',left_on='station_name',right_on='name_tw')"
   ]
  },
  {
   "cell_type": "code",
   "execution_count": 32,
   "metadata": {},
   "outputs": [],
   "source": [
    "merged = merged[['station_name','district_tw','lat','lng','weekend','hour','traffic_count']]"
   ]
  },
  {
   "cell_type": "code",
   "execution_count": 33,
   "metadata": {},
   "outputs": [
    {
     "data": {
      "text/plain": [
       "(1375054, 7)"
      ]
     },
     "execution_count": 33,
     "metadata": {},
     "output_type": "execute_result"
    }
   ],
   "source": [
    "merged.shape"
   ]
  },
  {
   "cell_type": "code",
   "execution_count": 34,
   "metadata": {},
   "outputs": [],
   "source": [
    "merged.to_csv('pipeline_F2_result.csv', index=False)"
   ]
  },
  {
   "cell_type": "code",
   "execution_count": null,
   "metadata": {},
   "outputs": [],
   "source": []
  }
 ],
 "metadata": {
  "kernelspec": {
   "display_name": ".venv",
   "language": "python",
   "name": "python3"
  },
  "language_info": {
   "codemirror_mode": {
    "name": "ipython",
    "version": 3
   },
   "file_extension": ".py",
   "mimetype": "text/x-python",
   "name": "python",
   "nbconvert_exporter": "python",
   "pygments_lexer": "ipython3",
   "version": "3.12.2"
  }
 },
 "nbformat": 4,
 "nbformat_minor": 2
}
