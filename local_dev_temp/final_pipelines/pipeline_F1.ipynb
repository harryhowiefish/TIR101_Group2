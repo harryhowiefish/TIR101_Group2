{
 "cells": [
  {
   "cell_type": "code",
   "execution_count": 1,
   "metadata": {},
   "outputs": [],
   "source": [
    "import pandas as pd\n",
    "import os\n",
    "import geopy.distance\n",
    "import numpy as np\n",
    "from pathlib import Path"
   ]
  },
  {
   "cell_type": "code",
   "execution_count": 2,
   "metadata": {},
   "outputs": [],
   "source": [
    "ubike_rt = pd.read_csv('ubike_0501.csv')\n",
    "ubike_rt.drop_duplicates(inplace=True)\n",
    "ubike_rt['sarea'] = ubike_rt['sarea'].replace('臺大公館校區','大安區')\n",
    "ubike_rt['sna'] = ubike_rt['sna'].apply(lambda x: x.split('_')[1])\n"
   ]
  },
  {
   "cell_type": "code",
   "execution_count": 3,
   "metadata": {},
   "outputs": [],
   "source": [
    "ubike_rt = ubike_rt[ubike_rt['act']==1]"
   ]
  },
  {
   "cell_type": "code",
   "execution_count": 4,
   "metadata": {},
   "outputs": [],
   "source": [
    "ubike_rt = ubike_rt[['sbi','bemp','tot','updateTime']]"
   ]
  },
  {
   "cell_type": "code",
   "execution_count": 5,
   "metadata": {},
   "outputs": [],
   "source": [
    "ubike_rt['thres'] = np.min(np.column_stack(((ubike_rt['tot']*0.1).to_numpy(),np.full(len(ubike_rt),5))),axis=1)\n",
    "def almost_empty(row):\n",
    "    bike = row['sbi']\n",
    "    thres = row['thres']\n",
    "    if bike <thres:\n",
    "    # if bike <2:\n",
    "        return True\n",
    "    else:\n",
    "        return False\n",
    "    \n",
    "def almost_full(row):\n",
    "    empty = row['bemp']\n",
    "    thres = row['thres']\n",
    "    if empty <thres:\n",
    "    # if bike <2:\n",
    "        return True\n",
    "    else:\n",
    "        return False"
   ]
  },
  {
   "cell_type": "code",
   "execution_count": 6,
   "metadata": {},
   "outputs": [],
   "source": [
    "ubike_rt['almost_empty'] = ubike_rt.apply(almost_empty,axis=1)\n",
    "ubike_rt['almost_full'] = ubike_rt.apply(almost_full,axis=1)\n"
   ]
  },
  {
   "cell_type": "code",
   "execution_count": 7,
   "metadata": {},
   "outputs": [],
   "source": [
    "ubike_rt['date'] = pd.to_datetime(ubike_rt['updateTime']).dt.date\n",
    "ubike_rt['hour'] = pd.to_datetime(ubike_rt['updateTime']).dt.hour"
   ]
  },
  {
   "cell_type": "code",
   "execution_count": 8,
   "metadata": {},
   "outputs": [],
   "source": [
    "result = ubike_rt.groupby(['date','hour'],as_index=False).agg({'almost_full':'mean','almost_empty':'mean'})"
   ]
  },
  {
   "cell_type": "code",
   "execution_count": 9,
   "metadata": {},
   "outputs": [],
   "source": [
    "result['dow'] = pd.to_datetime(result['date']).dt.dayofweek+1\n",
    "result['weekend'] = pd.to_datetime(result['date']).dt.dayofweek.isin([5,6])\n",
    "result['weekend'] = np.where(result['weekend'],'假日','平日')\n"
   ]
  },
  {
   "cell_type": "code",
   "execution_count": 10,
   "metadata": {},
   "outputs": [],
   "source": [
    "result.to_csv('pipeline_F1_result.csv',index=False)"
   ]
  }
 ],
 "metadata": {
  "kernelspec": {
   "display_name": ".venv",
   "language": "python",
   "name": "python3"
  },
  "language_info": {
   "codemirror_mode": {
    "name": "ipython",
    "version": 3
   },
   "file_extension": ".py",
   "mimetype": "text/x-python",
   "name": "python",
   "nbconvert_exporter": "python",
   "pygments_lexer": "ipython3",
   "version": "3.12.2"
  }
 },
 "nbformat": 4,
 "nbformat_minor": 2
}
