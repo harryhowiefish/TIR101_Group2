{
 "cells": [
  {
   "cell_type": "code",
   "execution_count": 1,
   "metadata": {},
   "outputs": [],
   "source": [
    "import pandas as pd\n",
    "import os\n",
    "import geopy.distance\n",
    "import numpy as np\n",
    "from pathlib import Path"
   ]
  },
  {
   "cell_type": "code",
   "execution_count": 10,
   "metadata": {},
   "outputs": [],
   "source": [
    "bus_station = pd.read_csv('tpe_bus_station_info_after_api_call.csv')\n",
    "mrt_station = pd.read_csv('mrt_station.csv')\n",
    "bike_station = pd.read_csv('TPE_bike_station.csv')"
   ]
  },
  {
   "cell_type": "code",
   "execution_count": 11,
   "metadata": {},
   "outputs": [],
   "source": [
    "bike_station['district_tw'] = bike_station['district_tw'].replace('臺大公館校區','大安區')"
   ]
  },
  {
   "cell_type": "code",
   "execution_count": 12,
   "metadata": {},
   "outputs": [],
   "source": [
    "bike_station.rename(\n",
    "    {\n",
    "        'name_tw':'station_name',\n",
    "        'district_tw':'district',\n",
    "        'lat':'lat',\n",
    "        'lng':'lng'\n",
    "\n",
    "    }\n",
    "    ,axis=1,\n",
    "    inplace=True\n",
    "                    )"
   ]
  },
  {
   "cell_type": "code",
   "execution_count": 17,
   "metadata": {},
   "outputs": [],
   "source": [
    "\n",
    "# bike_station['station_name'] = bike_station['station_name'].apply(lambda x: x.split('_')[1])\n",
    "bike_station = bike_station[['station_no','station_name',\n",
    "                             'city_code','district','lng','lat']]"
   ]
  },
  {
   "cell_type": "code",
   "execution_count": 18,
   "metadata": {},
   "outputs": [],
   "source": [
    "mrt_station.rename(\n",
    "    {\n",
    "        'StationPosition.PositionLon':'lng',\n",
    "        'StationPosition.PositionLat':'lat'\n",
    "    },\n",
    "    axis=1,\n",
    "    inplace=True\n",
    ")"
   ]
  },
  {
   "cell_type": "code",
   "execution_count": 19,
   "metadata": {},
   "outputs": [
    {
     "name": "stderr",
     "output_type": "stream",
     "text": [
      "/var/folders/w3/7pcg5gg91fzfkchg8ds2t6w00000gp/T/ipykernel_35104/208401987.py:11: SettingWithCopyWarning: \n",
      "A value is trying to be set on a copy of a slice from a DataFrame.\n",
      "Try using .loc[row_indexer,col_indexer] = value instead\n",
      "\n",
      "See the caveats in the documentation: https://pandas.pydata.org/pandas-docs/stable/user_guide/indexing.html#returning-a-view-versus-a-copy\n",
      "  bike_station['near_to_bus'] = bus_dist\n"
     ]
    }
   ],
   "source": [
    "mrt_dist = []\n",
    "bus_dist = []\n",
    "for idx, row in bike_station.iterrows():\n",
    "    point_1 = row[['lat','lng']].to_numpy()\n",
    "    mrt_dist.append(int(mrt_station[['lat','lng']].apply(lambda row:\n",
    "                                 geopy.distance.geodesic(point_1,row.to_numpy()).m,\n",
    "                                 axis=1).min()))\n",
    "    bus_dist.append(int(bus_station[['lat','lng']].apply(lambda row:\n",
    "                                 geopy.distance.geodesic(point_1,row.to_numpy()).m,\n",
    "                                 axis=1).min()))\n",
    "bike_station['near_to_bus'] = bus_dist\n",
    "bike_station['near_to_mrt'] = mrt_dist\n",
    "del mrt_station,bus_station"
   ]
  },
  {
   "cell_type": "code",
   "execution_count": 26,
   "metadata": {},
   "outputs": [],
   "source": [
    "ubike_rt = pd.read_csv('ubike_0501.csv')\n",
    "ubike_rt.drop_duplicates(inplace=True)\n",
    "ubike_rt['sarea'] = ubike_rt['sarea'].replace('臺大公館校區','大安區')\n",
    "ubike_rt['sna'] = ubike_rt['sna'].apply(lambda x: x.split('_')[1])\n",
    "ubike_rt = ubike_rt[ubike_rt['act']==1]"
   ]
  },
  {
   "cell_type": "code",
   "execution_count": 27,
   "metadata": {},
   "outputs": [],
   "source": [
    "ubike_rt['thres'] = np.min(np.column_stack(((ubike_rt['tot']*0.1).to_numpy(),np.full(len(ubike_rt),5))),axis=1)\n",
    "def almost_empty(row):\n",
    "    bike = row['sbi']\n",
    "    thres = row['thres']\n",
    "    if bike <thres:\n",
    "    # if bike <2:\n",
    "        return True\n",
    "    else:\n",
    "        return False\n",
    "    \n",
    "ubike_rt['almost_empty'] = ubike_rt.apply(almost_empty,axis=1)\n",
    "ubike_rt['date'] = pd.to_datetime(ubike_rt['updateTime']).dt.date\n",
    "ubike_rt['hour'] = pd.to_datetime(ubike_rt['updateTime']).dt.hour\n"
   ]
  },
  {
   "cell_type": "code",
   "execution_count": 24,
   "metadata": {},
   "outputs": [
    {
     "data": {
      "text/html": [
       "<div>\n",
       "<style scoped>\n",
       "    .dataframe tbody tr th:only-of-type {\n",
       "        vertical-align: middle;\n",
       "    }\n",
       "\n",
       "    .dataframe tbody tr th {\n",
       "        vertical-align: top;\n",
       "    }\n",
       "\n",
       "    .dataframe thead th {\n",
       "        text-align: right;\n",
       "    }\n",
       "</style>\n",
       "<table border=\"1\" class=\"dataframe\">\n",
       "  <thead>\n",
       "    <tr style=\"text-align: right;\">\n",
       "      <th></th>\n",
       "      <th>station_no</th>\n",
       "      <th>station_name</th>\n",
       "      <th>city_code</th>\n",
       "      <th>district</th>\n",
       "      <th>lng</th>\n",
       "      <th>lat</th>\n",
       "      <th>near_to_bus</th>\n",
       "      <th>near_to_mrt</th>\n",
       "    </tr>\n",
       "  </thead>\n",
       "  <tbody>\n",
       "    <tr>\n",
       "      <th>0</th>\n",
       "      <td>500101001</td>\n",
       "      <td>捷運科技大樓站</td>\n",
       "      <td>TPE</td>\n",
       "      <td>大安區</td>\n",
       "      <td>121.54360</td>\n",
       "      <td>25.02605</td>\n",
       "      <td>7</td>\n",
       "      <td>15</td>\n",
       "    </tr>\n",
       "    <tr>\n",
       "      <th>1</th>\n",
       "      <td>500101002</td>\n",
       "      <td>復興南路二段273號前</td>\n",
       "      <td>TPE</td>\n",
       "      <td>大安區</td>\n",
       "      <td>121.54357</td>\n",
       "      <td>25.02565</td>\n",
       "      <td>37</td>\n",
       "      <td>53</td>\n",
       "    </tr>\n",
       "    <tr>\n",
       "      <th>2</th>\n",
       "      <td>500101003</td>\n",
       "      <td>國北教大實小東側門</td>\n",
       "      <td>TPE</td>\n",
       "      <td>大安區</td>\n",
       "      <td>121.54124</td>\n",
       "      <td>25.02429</td>\n",
       "      <td>122</td>\n",
       "      <td>302</td>\n",
       "    </tr>\n",
       "    <tr>\n",
       "      <th>3</th>\n",
       "      <td>500101004</td>\n",
       "      <td>和平公園東側</td>\n",
       "      <td>TPE</td>\n",
       "      <td>大安區</td>\n",
       "      <td>121.54282</td>\n",
       "      <td>25.02351</td>\n",
       "      <td>79</td>\n",
       "      <td>296</td>\n",
       "    </tr>\n",
       "    <tr>\n",
       "      <th>4</th>\n",
       "      <td>500101005</td>\n",
       "      <td>辛亥復興路口西北側</td>\n",
       "      <td>TPE</td>\n",
       "      <td>大安區</td>\n",
       "      <td>121.54299</td>\n",
       "      <td>25.02153</td>\n",
       "      <td>80</td>\n",
       "      <td>510</td>\n",
       "    </tr>\n",
       "  </tbody>\n",
       "</table>\n",
       "</div>"
      ],
      "text/plain": [
       "   station_no station_name city_code district        lng       lat  \\\n",
       "0   500101001      捷運科技大樓站       TPE      大安區  121.54360  25.02605   \n",
       "1   500101002  復興南路二段273號前       TPE      大安區  121.54357  25.02565   \n",
       "2   500101003    國北教大實小東側門       TPE      大安區  121.54124  25.02429   \n",
       "3   500101004       和平公園東側       TPE      大安區  121.54282  25.02351   \n",
       "4   500101005    辛亥復興路口西北側       TPE      大安區  121.54299  25.02153   \n",
       "\n",
       "   near_to_bus  near_to_mrt  \n",
       "0            7           15  \n",
       "1           37           53  \n",
       "2          122          302  \n",
       "3           79          296  \n",
       "4           80          510  "
      ]
     },
     "execution_count": 24,
     "metadata": {},
     "output_type": "execute_result"
    }
   ],
   "source": [
    "bike_station.head()"
   ]
  },
  {
   "cell_type": "code",
   "execution_count": 36,
   "metadata": {},
   "outputs": [],
   "source": [
    "result = ubike_rt.groupby(['sna','date','hour'],as_index=False).agg({'almost_empty':'mean'})"
   ]
  },
  {
   "cell_type": "code",
   "execution_count": 38,
   "metadata": {},
   "outputs": [],
   "source": [
    "result = result.merge(bike_station,left_on='sna',right_on='station_name',how='inner')"
   ]
  },
  {
   "cell_type": "code",
   "execution_count": 39,
   "metadata": {},
   "outputs": [
    {
     "data": {
      "text/plain": [
       "Index(['sna', 'date', 'hour', 'almost_empty', 'station_no', 'station_name',\n",
       "       'city_code', 'district', 'lng', 'lat', 'near_to_bus', 'near_to_mrt'],\n",
       "      dtype='object')"
      ]
     },
     "execution_count": 39,
     "metadata": {},
     "output_type": "execute_result"
    }
   ],
   "source": [
    "result.columns"
   ]
  },
  {
   "cell_type": "code",
   "execution_count": 40,
   "metadata": {},
   "outputs": [],
   "source": [
    "result = result[['station_name','near_to_mrt','near_to_bus','date','hour','lng','lat','almost_empty']]"
   ]
  },
  {
   "cell_type": "code",
   "execution_count": 41,
   "metadata": {},
   "outputs": [],
   "source": [
    "result.to_csv('pipeline_F4_result.csv',index=False)"
   ]
  },
  {
   "cell_type": "code",
   "execution_count": 42,
   "metadata": {},
   "outputs": [
    {
     "data": {
      "text/plain": [
       "(430171, 8)"
      ]
     },
     "execution_count": 42,
     "metadata": {},
     "output_type": "execute_result"
    }
   ],
   "source": [
    "result.shape"
   ]
  }
 ],
 "metadata": {
  "kernelspec": {
   "display_name": ".venv",
   "language": "python",
   "name": "python3"
  },
  "language_info": {
   "codemirror_mode": {
    "name": "ipython",
    "version": 3
   },
   "file_extension": ".py",
   "mimetype": "text/x-python",
   "name": "python",
   "nbconvert_exporter": "python",
   "pygments_lexer": "ipython3",
   "version": "3.12.2"
  }
 },
 "nbformat": 4,
 "nbformat_minor": 2
}
