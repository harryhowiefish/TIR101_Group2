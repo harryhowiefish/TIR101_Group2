{
 "cells": [
  {
   "cell_type": "code",
   "execution_count": 1,
   "metadata": {},
   "outputs": [],
   "source": [
    "from google.oauth2 import service_account\n",
    "from google.cloud import storage\n",
    "import transfer_tools as tt"
   ]
  },
  {
   "cell_type": "markdown",
   "metadata": {},
   "source": [
    "## Service Account roles\n",
    "- Create a key for the source GCS and the destination GCS.\n",
    "  - The key for source has to AT LEAST have the Storage object viewer and a custom storage.buckets.list permissions.\n",
    "  - The key for destination has to have Storage Admin permissions."
   ]
  },
  {
   "cell_type": "code",
   "execution_count": 2,
   "metadata": {},
   "outputs": [],
   "source": [
    "source_key = './source_key.json'\n",
    "dest_key = './dest_key.json'\n",
    "suffix = 'harry_personal'  #due to bucket name being global unique, a suffix is added to the new bucket in the destination gcs"
   ]
  },
  {
   "cell_type": "code",
   "execution_count": 3,
   "metadata": {},
   "outputs": [],
   "source": [
    "src_credentials = service_account.Credentials.from_service_account_file(\n",
    "    source_key,\n",
    "    scopes=[\"https://www.googleapis.com/auth/cloud-platform\"],\n",
    ")\n",
    "dest_credentials = service_account.Credentials.from_service_account_file(\n",
    "    dest_key,\n",
    "    scopes=[\"https://www.googleapis.com/auth/cloud-platform\"],\n",
    ")\n",
    "source_client = storage.Client(credentials=src_credentials)\n",
    "dest_client = storage.Client(credentials=dest_credentials)"
   ]
  },
  {
   "cell_type": "code",
   "execution_count": 4,
   "metadata": {},
   "outputs": [],
   "source": [
    "mover = tt.GCS_to_GCS(source_client,dest_client)"
   ]
  },
  {
   "cell_type": "code",
   "execution_count": 5,
   "metadata": {},
   "outputs": [
    {
     "name": "stdout",
     "output_type": "stream",
     "text": [
      "setting updated, new buckets will have the suffix: harry_personal\n"
     ]
    }
   ],
   "source": [
    "mover.init_dest_bucket_setting(suffix)"
   ]
  },
  {
   "cell_type": "code",
   "execution_count": 6,
   "metadata": {},
   "outputs": [],
   "source": [
    "mover.duplicate_buckets_in_dest()"
   ]
  },
  {
   "cell_type": "code",
   "execution_count": 7,
   "metadata": {},
   "outputs": [],
   "source": [
    "mover.copy_all_files()"
   ]
  }
 ],
 "metadata": {
  "kernelspec": {
   "display_name": ".venv",
   "language": "python",
   "name": "python3"
  },
  "language_info": {
   "codemirror_mode": {
    "name": "ipython",
    "version": 3
   },
   "file_extension": ".py",
   "mimetype": "text/x-python",
   "name": "python",
   "nbconvert_exporter": "python",
   "pygments_lexer": "ipython3",
   "version": "3.12.2"
  }
 },
 "nbformat": 4,
 "nbformat_minor": 2
}
